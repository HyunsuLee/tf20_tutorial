{
 "cells": [
  {
   "cell_type": "markdown",
   "metadata": {},
   "source": [
    "# Neural machine tranlation with attention\n",
    "* [source site](https://www.tensorflow.org/beta/tutorials/text/nmt_with_attention)"
   ]
  },
  {
   "cell_type": "code",
   "execution_count": 1,
   "metadata": {},
   "outputs": [],
   "source": [
    "from __future__ import absolute_import, division, print_function, unicode_literals\n",
    "\n",
    "import tensorflow as tf\n",
    "\n",
    "import matplotlib.pyplot as plt\n",
    "import matplotlib.ticker as ticker\n",
    "from sklearn.model_selection import train_test_split\n",
    "\n",
    "import unicodedata\n",
    "import re\n",
    "import numpy as np\n",
    "import os\n",
    "import io\n",
    "import time"
   ]
  },
  {
   "cell_type": "code",
   "execution_count": 2,
   "metadata": {},
   "outputs": [],
   "source": [
    "# Download the file\n",
    "path_to_zip = tf.keras.utils.get_file(\n",
    "    'spa-eng.zip', origin='http://storage.googleapis.com/download.tensorflow.org/data/spa-eng.zip',\n",
    "    extract=True)\n",
    "\n",
    "path_to_file = os.path.dirname(path_to_zip)+\"/spa-eng/spa.txt\""
   ]
  },
  {
   "cell_type": "code",
   "execution_count": 3,
   "metadata": {},
   "outputs": [],
   "source": [
    "# Converts the unicode file to ascii\n",
    "def unicode_to_ascii(s):\n",
    "    return ''.join(c for c in unicodedata.normalize('NFD', s)\n",
    "                     if unicodedata.category(c) != 'Mn')"
   ]
  },
  {
   "cell_type": "code",
   "execution_count": 4,
   "metadata": {},
   "outputs": [],
   "source": [
    "def preprocess_sentence(w):\n",
    "    w = unicode_to_ascii(w.lower().strip())\n",
    "\n",
    "    # creating a space between a word and the punctuation following it\n",
    "    # eg: \"he is a boy.\" => \"he is a boy .\"\n",
    "    # Reference:- https://stackoverflow.com/questions/3645931/python-padding-punctuation-with-white-spaces-keeping-punctuation\n",
    "    w = re.sub(r\"([?.!,¿])\", r\" \\1 \", w)\n",
    "    w = re.sub(r'[\" \"]+', \" \", w)\n",
    "\n",
    "    # replacing everything with space except (a-z, A-Z, \".\", \"?\", \"!\", \",\")\n",
    "    w = re.sub(r\"[^a-zA-Z?.!,¿]+\", \" \", w)\n",
    "\n",
    "    # remove space at start and end of data\n",
    "    w = w.rstrip().strip() \n",
    "\n",
    "    # adding a start and an end token to the sentence\n",
    "    # so that the model know when to start and stop predicting.\n",
    "    w = '<start> ' + w + ' <end>'\n",
    "    return w"
   ]
  },
  {
   "cell_type": "code",
   "execution_count": 5,
   "metadata": {},
   "outputs": [
    {
     "data": {
      "text/plain": [
       "'he is a boy . '"
      ]
     },
     "execution_count": 5,
     "metadata": {},
     "output_type": "execute_result"
    }
   ],
   "source": [
    "re.sub(r\"([?.!,¿])\", r\" \\1 \", 'he is a boy.')"
   ]
  },
  {
   "cell_type": "code",
   "execution_count": 6,
   "metadata": {},
   "outputs": [
    {
     "data": {
      "text/plain": [
       "' he is a boy. '"
      ]
     },
     "execution_count": 6,
     "metadata": {},
     "output_type": "execute_result"
    }
   ],
   "source": [
    "re.sub(r'[\" \"]+', \" \", '\"he is a boy.\"')"
   ]
  },
  {
   "cell_type": "code",
   "execution_count": 7,
   "metadata": {},
   "outputs": [
    {
     "data": {
      "text/plain": [
       "' he is a boy. '"
      ]
     },
     "execution_count": 7,
     "metadata": {},
     "output_type": "execute_result"
    }
   ],
   "source": [
    "re.sub(r\"[^a-zA-Z?.!,¿]+\", \" \", '\"he is a boy.\"')"
   ]
  },
  {
   "cell_type": "code",
   "execution_count": 8,
   "metadata": {},
   "outputs": [],
   "source": [
    "w = ' he is a boy. '"
   ]
  },
  {
   "cell_type": "code",
   "execution_count": 9,
   "metadata": {},
   "outputs": [
    {
     "data": {
      "text/plain": [
       "'he is a boy.'"
      ]
     },
     "execution_count": 9,
     "metadata": {},
     "output_type": "execute_result"
    }
   ],
   "source": [
    "w.rstrip().strip()"
   ]
  },
  {
   "cell_type": "code",
   "execution_count": 10,
   "metadata": {},
   "outputs": [
    {
     "name": "stdout",
     "output_type": "stream",
     "text": [
      "<start> may i borrow this book ? <end>\n",
      "b'<start> \\xc2\\xbf puedo tomar prestado este libro ? <end>'\n"
     ]
    }
   ],
   "source": [
    "en_sentence = u\"May I borrow this book?\"\n",
    "sp_sentence = u\"¿Puedo tomar prestado este libro?\"\n",
    "print(preprocess_sentence(en_sentence))\n",
    "print(preprocess_sentence(sp_sentence).encode('utf-8'))"
   ]
  },
  {
   "cell_type": "code",
   "execution_count": 11,
   "metadata": {},
   "outputs": [
    {
     "name": "stdout",
     "output_type": "stream",
     "text": [
      "b'<start> may i borrow this book ? <end>'\n"
     ]
    }
   ],
   "source": [
    "print(preprocess_sentence(en_sentence).encode('utf-8'))"
   ]
  },
  {
   "cell_type": "code",
   "execution_count": 12,
   "metadata": {},
   "outputs": [],
   "source": [
    "# 1. Remove the accents\n",
    "# 2. Clean the sentences\n",
    "# 3. Return word pairs in the format: [ENGLISH, SPANISH]\n",
    "def create_dataset(path, num_examples):\n",
    "    lines = io.open(path, encoding='UTF-8').read().strip().split('\\n')\n",
    "\n",
    "    word_pairs = [[preprocess_sentence(w) for w in l.split('\\t')]  for l in lines[:num_examples]]\n",
    "\n",
    "    return zip(*word_pairs)"
   ]
  },
  {
   "cell_type": "code",
   "execution_count": 13,
   "metadata": {},
   "outputs": [
    {
     "name": "stdout",
     "output_type": "stream",
     "text": [
      "<start> if you want to sound like a native speaker , you must be willing to practice saying the same sentence over and over in the same way that banjo players practice the same phrase over and over until they can play it correctly and at the desired tempo . <end>\n",
      "<start> si quieres sonar como un hablante nativo , debes estar dispuesto a practicar diciendo la misma frase una y otra vez de la misma manera en que un musico de banjo practica el mismo fraseo una y otra vez hasta que lo puedan tocar correctamente y en el tiempo esperado . <end>\n"
     ]
    }
   ],
   "source": [
    "en, sp = create_dataset(path_to_file, None)\n",
    "print(en[-1])\n",
    "print(sp[-1])"
   ]
  },
  {
   "cell_type": "code",
   "execution_count": 14,
   "metadata": {},
   "outputs": [
    {
     "name": "stdout",
     "output_type": "stream",
     "text": [
      "<start> with a little planning , i think we can take our company to the top . <end>\n",
      "<start> con un poco de planificacion , creo que podemos llevar a nuestra compania a la cima . <end>\n"
     ]
    }
   ],
   "source": [
    "print(en[117000])\n",
    "print(sp[117000])"
   ]
  },
  {
   "cell_type": "code",
   "execution_count": 15,
   "metadata": {},
   "outputs": [],
   "source": [
    "def max_length(tensor):\n",
    "    return max(len(t) for t in tensor)"
   ]
  },
  {
   "cell_type": "code",
   "execution_count": 16,
   "metadata": {},
   "outputs": [],
   "source": [
    "def tokenize(lang):\n",
    "    lang_tokenizer = tf.keras.preprocessing.text.Tokenizer(filters='')\n",
    "    lang_tokenizer.fit_on_texts(lang)\n",
    "\n",
    "    tensor = lang_tokenizer.texts_to_sequences(lang)\n",
    "  \n",
    "    tensor = tf.keras.preprocessing.sequence.pad_sequences(tensor,\n",
    "                                                         padding='post')\n",
    "\n",
    "    return tensor, lang_tokenizer"
   ]
  },
  {
   "cell_type": "code",
   "execution_count": 17,
   "metadata": {},
   "outputs": [],
   "source": [
    "def load_dataset(path, num_examples=None):\n",
    "    # creating cleaned input, output pairs\n",
    "    targ_lang, inp_lang = create_dataset(path, num_examples)\n",
    "\n",
    "    input_tensor, inp_lang_tokenizer = tokenize(inp_lang)\n",
    "    target_tensor, targ_lang_tokenizer = tokenize(targ_lang)\n",
    "\n",
    "    return input_tensor, target_tensor, inp_lang_tokenizer, targ_lang_tokenizer"
   ]
  },
  {
   "cell_type": "code",
   "execution_count": 18,
   "metadata": {},
   "outputs": [],
   "source": [
    "# Try experimenting with the size of that dataset\n",
    "num_examples = len(en) \n",
    "input_tensor, target_tensor, inp_lang, targ_lang = load_dataset(path_to_file, num_examples)\n",
    "\n",
    "# Calculate max_length of the target tensors\n",
    "max_length_targ, max_length_inp = max_length(target_tensor), max_length(input_tensor)"
   ]
  },
  {
   "cell_type": "code",
   "execution_count": 19,
   "metadata": {},
   "outputs": [
    {
     "name": "stdout",
     "output_type": "stream",
     "text": [
      "51\n",
      "53\n",
      "118964\n",
      "118964\n"
     ]
    }
   ],
   "source": [
    "print(max_length_targ)\n",
    "print(max_length_inp)\n",
    "print(len(input_tensor))\n",
    "print(len(target_tensor))\n"
   ]
  },
  {
   "cell_type": "code",
   "execution_count": 20,
   "metadata": {},
   "outputs": [
    {
     "name": "stdout",
     "output_type": "stream",
     "text": [
      "95171 95171 23793 23793\n"
     ]
    }
   ],
   "source": [
    "# Creating training and validation sets using an 80-20 split\n",
    "input_tensor_train, input_tensor_val, target_tensor_train, target_tensor_val = train_test_split(input_tensor, target_tensor, test_size=0.2)\n",
    "\n",
    "# Show length\n",
    "print(len(input_tensor_train), len(target_tensor_train), len(input_tensor_val), len(target_tensor_val))"
   ]
  },
  {
   "cell_type": "code",
   "execution_count": 21,
   "metadata": {},
   "outputs": [],
   "source": [
    "def convert(lang, tensor):\n",
    "    for t in tensor:\n",
    "        if t!=0:\n",
    "            print (\"%d ----> %s\" % (t, lang.index_word[t]))"
   ]
  },
  {
   "cell_type": "code",
   "execution_count": 22,
   "metadata": {},
   "outputs": [
    {
     "name": "stdout",
     "output_type": "stream",
     "text": [
      "Input Language; index to word mapping\n",
      "1 ----> <start>\n",
      "58 ----> hay\n",
      "204 ----> muchos\n",
      "1523 ----> muebles\n",
      "13 ----> en\n",
      "24 ----> su\n",
      "834 ----> pieza\n",
      "3 ----> .\n",
      "2 ----> <end>\n",
      "\n",
      "Target Language; index to word mapping\n",
      "1 ----> <start>\n",
      "47 ----> there\n",
      "11 ----> is\n",
      "9 ----> a\n",
      "130 ----> lot\n",
      "18 ----> of\n",
      "1146 ----> furniture\n",
      "16 ----> in\n",
      "34 ----> his\n",
      "141 ----> room\n",
      "3 ----> .\n",
      "2 ----> <end>\n"
     ]
    }
   ],
   "source": [
    "print (\"Input Language; index to word mapping\")\n",
    "convert(inp_lang, input_tensor_train[0])\n",
    "print ()\n",
    "print (\"Target Language; index to word mapping\")\n",
    "convert(targ_lang, target_tensor_train[0])"
   ]
  },
  {
   "cell_type": "code",
   "execution_count": 23,
   "metadata": {},
   "outputs": [],
   "source": [
    "BUFFER_SIZE = len(input_tensor_train)\n",
    "BATCH_SIZE = 64\n",
    "steps_per_epoch = len(input_tensor_train)//BATCH_SIZE\n",
    "embedding_dim = 256\n",
    "units = 1024\n",
    "vocab_inp_size = len(inp_lang.word_index)+1\n",
    "vocab_tar_size = len(targ_lang.word_index)+1\n",
    "\n",
    "dataset = tf.data.Dataset.from_tensor_slices((input_tensor_train, target_tensor_train)).shuffle(BUFFER_SIZE)\n",
    "dataset = dataset.batch(BATCH_SIZE, drop_remainder=True)"
   ]
  },
  {
   "cell_type": "code",
   "execution_count": 24,
   "metadata": {},
   "outputs": [
    {
     "data": {
      "text/plain": [
       "(TensorShape([64, 53]), TensorShape([64, 51]))"
      ]
     },
     "execution_count": 24,
     "metadata": {},
     "output_type": "execute_result"
    }
   ],
   "source": [
    "example_input_batch, example_target_batch = next(iter(dataset))\n",
    "example_input_batch.shape, example_target_batch.shape # sanity check"
   ]
  },
  {
   "cell_type": "markdown",
   "metadata": {},
   "source": [
    "# encoder and decoder model\n",
    "![alt text](https://www.tensorflow.org/images/seq2seq/attention_mechanism.jpg)\n",
    "[Loung's paper](https://arxiv.org/abs/1508.04025v5)\n",
    "[Bahdanau's paper](https://arxiv.org/pdf/1409.0473.pdf)\n",
    "\n",
    "### notation\n",
    "\n",
    "* FC = Fully connected(dense) layer\n",
    "* EO = Encoder output\n",
    "* H = hidden state\n",
    "* X = input to the decoder\n",
    "\n",
    "### Pseudo-code\n",
    "\n",
    "* score = FC(tanh(FC(EO) + FC(H))\n",
    "* attention weights = softmax(score, axis = 1)\n",
    "* context vectoer = sum(attention weights * EO, axis = 1)\n",
    "* embedding output = the input to the decoder X is passed through an embedding layer\n",
    "* merged vector = concat(embedding output, context vector)"
   ]
  },
  {
   "cell_type": "code",
   "execution_count": 25,
   "metadata": {},
   "outputs": [],
   "source": [
    "class Encoder(tf.keras.Model):\n",
    "    def __init__(self, vocab_size, embedding_dim, enc_units, batch_sz):\n",
    "        super(Encoder, self).__init__()\n",
    "        self.batch_sz = batch_sz\n",
    "        self.enc_units = enc_units\n",
    "        self.embedding = tf.keras.layers.Embedding(vocab_size, embedding_dim)\n",
    "        self.gru = tf.keras.layers.GRU(self.enc_units,\n",
    "                                   return_sequences=True,\n",
    "                                   return_state=True,\n",
    "                                   recurrent_initializer='glorot_uniform')\n",
    "\n",
    "    def call(self, x, hidden):\n",
    "        x = self.embedding(x)\n",
    "        output, state = self.gru(x, initial_state = hidden)\n",
    "        return output, state\n",
    "\n",
    "    def initialize_hidden_state(self):\n",
    "        return tf.zeros((self.batch_sz, self.enc_units))"
   ]
  },
  {
   "cell_type": "code",
   "execution_count": 26,
   "metadata": {},
   "outputs": [
    {
     "name": "stdout",
     "output_type": "stream",
     "text": [
      "Encoder output shape: (batch size, sequence length, units) (64, 53, 1024)\n",
      "Encoder Hidden state shape: (batch size, units) (64, 1024)\n"
     ]
    }
   ],
   "source": [
    "encoder = Encoder(vocab_inp_size, embedding_dim, units, BATCH_SIZE)\n",
    "\n",
    "# sample input\n",
    "sample_hidden = encoder.initialize_hidden_state()\n",
    "sample_output, sample_hidden = encoder(example_input_batch, sample_hidden)\n",
    "print ('Encoder output shape: (batch size, sequence length, units) {}'.format(sample_output.shape))\n",
    "print ('Encoder Hidden state shape: (batch size, units) {}'.format(sample_hidden.shape))"
   ]
  },
  {
   "cell_type": "code",
   "execution_count": 27,
   "metadata": {},
   "outputs": [],
   "source": [
    "class BahdanauAttention(tf.keras.Model):\n",
    "    def __init__(self, units):\n",
    "        super(BahdanauAttention, self).__init__()\n",
    "        self.W1 = tf.keras.layers.Dense(units)\n",
    "        self.W2 = tf.keras.layers.Dense(units)\n",
    "        self.V = tf.keras.layers.Dense(1)\n",
    "\n",
    "    def call(self, query, values):\n",
    "    # hidden shape == (batch_size, hidden size)\n",
    "    # hidden_with_time_axis shape == (batch_size, 1, hidden size)\n",
    "    # we are doing this to perform addition to calculate the score\n",
    "        hidden_with_time_axis = tf.expand_dims(query, 1)\n",
    "\n",
    "    # score shape == (batch_size, max_length, 1)\n",
    "    # we get 1 at the last axis because we are applying score to self.V\n",
    "    # the shape of the tensor before applying self.V is (batch_size, max_length, units)\n",
    "        score = self.V(tf.nn.tanh(\n",
    "        self.W1(values) + self.W2(hidden_with_time_axis)))\n",
    "\n",
    "    # attention_weights shape == (batch_size, max_length, 1)\n",
    "        attention_weights = tf.nn.softmax(score, axis=1)\n",
    "\n",
    "    # context_vector shape after sum == (batch_size, hidden_size)\n",
    "        context_vector = attention_weights * values\n",
    "        context_vector = tf.reduce_sum(context_vector, axis=1)\n",
    "\n",
    "        return context_vector, attention_weights"
   ]
  },
  {
   "cell_type": "code",
   "execution_count": 28,
   "metadata": {},
   "outputs": [
    {
     "name": "stdout",
     "output_type": "stream",
     "text": [
      "Attention result shape: (batch size, units) (64, 1024)\n",
      "Attention weights shape: (batch_size, sequence_length, 1) (64, 53, 1)\n"
     ]
    }
   ],
   "source": [
    "attention_layer = BahdanauAttention(10)\n",
    "attention_result, attention_weights = attention_layer(sample_hidden, sample_output)\n",
    "\n",
    "print(\"Attention result shape: (batch size, units) {}\".format(attention_result.shape))\n",
    "print(\"Attention weights shape: (batch_size, sequence_length, 1) {}\".format(attention_weights.shape))"
   ]
  },
  {
   "cell_type": "code",
   "execution_count": 29,
   "metadata": {},
   "outputs": [],
   "source": [
    "class Decoder(tf.keras.Model):\n",
    "    def __init__(self, vocab_size, embedding_dim, dec_units, batch_sz):\n",
    "        super(Decoder, self).__init__()\n",
    "        self.batch_sz = batch_sz\n",
    "        self.dec_units = dec_units\n",
    "        self.embedding = tf.keras.layers.Embedding(vocab_size, embedding_dim)\n",
    "        self.gru = tf.keras.layers.GRU(self.dec_units,\n",
    "                                   return_sequences=True,\n",
    "                                   return_state=True,\n",
    "                                   recurrent_initializer='glorot_uniform')\n",
    "        self.fc = tf.keras.layers.Dense(vocab_size)\n",
    "\n",
    "    # used for attention\n",
    "        self.attention = BahdanauAttention(self.dec_units)\n",
    "\n",
    "    def call(self, x, hidden, enc_output):\n",
    "    # enc_output shape == (batch_size, max_length, hidden_size)\n",
    "        context_vector, attention_weights = self.attention(hidden, enc_output)\n",
    "\n",
    "    # x shape after passing through embedding == (batch_size, 1, embedding_dim)\n",
    "        x = self.embedding(x)\n",
    "\n",
    "    # x shape after concatenation == (batch_size, 1, embedding_dim + hidden_size)\n",
    "        x = tf.concat([tf.expand_dims(context_vector, 1), x], axis=-1)\n",
    "\n",
    "    # passing the concatenated vector to the GRU\n",
    "        output, state = self.gru(x)\n",
    "\n",
    "    # output shape == (batch_size * 1, hidden_size)\n",
    "        output = tf.reshape(output, (-1, output.shape[2]))\n",
    "\n",
    "    # output shape == (batch_size, vocab)\n",
    "        x = self.fc(output)\n",
    "\n",
    "        return x, state, attention_weights"
   ]
  },
  {
   "cell_type": "code",
   "execution_count": 30,
   "metadata": {},
   "outputs": [
    {
     "name": "stdout",
     "output_type": "stream",
     "text": [
      "Decoder output shape: (batch_size, vocab size) (64, 12934)\n"
     ]
    }
   ],
   "source": [
    "decoder = Decoder(vocab_tar_size, embedding_dim, units, BATCH_SIZE)\n",
    "\n",
    "sample_decoder_output, _, _ = decoder(tf.random.uniform((64, 1)),\n",
    "                                      sample_hidden, sample_output)\n",
    "\n",
    "print ('Decoder output shape: (batch_size, vocab size) {}'.format(sample_decoder_output.shape))"
   ]
  },
  {
   "cell_type": "code",
   "execution_count": 31,
   "metadata": {},
   "outputs": [],
   "source": [
    "optimizer = tf.keras.optimizers.Adam()\n",
    "loss_object = tf.keras.losses.SparseCategoricalCrossentropy(\n",
    "      from_logits=True, reduction='none')\n",
    "\n",
    "def loss_function(real, pred):\n",
    "    mask = tf.math.logical_not(tf.math.equal(real, 0))\n",
    "    loss_ = loss_object(real, pred)\n",
    "\n",
    "    mask = tf.cast(mask, dtype=loss_.dtype)\n",
    "    loss_ *= mask\n",
    "\n",
    "    return tf.reduce_mean(loss_)"
   ]
  },
  {
   "cell_type": "code",
   "execution_count": 32,
   "metadata": {},
   "outputs": [],
   "source": [
    "checkpoint_dir = './NMT_checkpoints'\n",
    "checkpoint_prefix = os.path.join(checkpoint_dir, \"ckpt\")\n",
    "checkpoint = tf.train.Checkpoint(optimizer=optimizer,\n",
    "                                 encoder=encoder,\n",
    "                                 decoder=decoder)"
   ]
  },
  {
   "cell_type": "markdown",
   "metadata": {},
   "source": [
    "## Training step"
   ]
  },
  {
   "cell_type": "code",
   "execution_count": 33,
   "metadata": {},
   "outputs": [],
   "source": [
    "@tf.function\n",
    "def train_step(inp, targ, enc_hidden):\n",
    "    loss = 0\n",
    "\n",
    "    with tf.GradientTape() as tape:\n",
    "        enc_output, enc_hidden = encoder(inp, enc_hidden)\n",
    "\n",
    "        dec_hidden = enc_hidden\n",
    "\n",
    "        dec_input = tf.expand_dims([targ_lang.word_index['<start>']] * BATCH_SIZE, 1)\n",
    "\n",
    "    # Teacher forcing - feeding the target as the next input\n",
    "        for t in range(1, targ.shape[1]):\n",
    "      # passing enc_output to the decoder\n",
    "            predictions, dec_hidden, _ = decoder(dec_input, dec_hidden, enc_output)\n",
    "\n",
    "            loss += loss_function(targ[:, t], predictions)\n",
    "\n",
    "      # using teacher forcing\n",
    "            dec_input = tf.expand_dims(targ[:, t], 1)\n",
    "\n",
    "    batch_loss = (loss / int(targ.shape[1]))\n",
    "\n",
    "    variables = encoder.trainable_variables + decoder.trainable_variables\n",
    "\n",
    "    gradients = tape.gradient(loss, variables)\n",
    "\n",
    "    optimizer.apply_gradients(zip(gradients, variables))\n",
    "\n",
    "    return batch_loss"
   ]
  },
  {
   "cell_type": "code",
   "execution_count": 34,
   "metadata": {},
   "outputs": [
    {
     "name": "stdout",
     "output_type": "stream",
     "text": [
      "Epoch 1 Batch 0 Loss 1.5634\n",
      "Epoch 1 Batch 100 Loss 0.8877\n",
      "Epoch 1 Batch 200 Loss 0.7637\n",
      "Epoch 1 Batch 300 Loss 0.7442\n",
      "Epoch 1 Batch 400 Loss 0.6154\n",
      "Epoch 1 Batch 500 Loss 0.6764\n",
      "Epoch 1 Batch 600 Loss 0.6625\n",
      "Epoch 1 Batch 700 Loss 0.5784\n",
      "Epoch 1 Batch 800 Loss 0.5556\n",
      "Epoch 1 Batch 900 Loss 0.5538\n",
      "Epoch 1 Batch 1000 Loss 0.6418\n",
      "Epoch 1 Batch 1100 Loss 0.5181\n",
      "Epoch 1 Batch 1200 Loss 0.5875\n",
      "Epoch 1 Batch 1300 Loss 0.4961\n",
      "Epoch 1 Batch 1400 Loss 0.4544\n",
      "Epoch 1 Loss 0.6414\n",
      "Time taken for 1 epoch 880.2647256851196 sec\n",
      "\n",
      "Epoch 2 Batch 0 Loss 0.3840\n",
      "Epoch 2 Batch 100 Loss 0.4265\n",
      "Epoch 2 Batch 200 Loss 0.3797\n",
      "Epoch 2 Batch 300 Loss 0.4108\n",
      "Epoch 2 Batch 400 Loss 0.3148\n",
      "Epoch 2 Batch 500 Loss 0.3798\n",
      "Epoch 2 Batch 600 Loss 0.3597\n",
      "Epoch 2 Batch 700 Loss 0.2856\n",
      "Epoch 2 Batch 800 Loss 0.2613\n",
      "Epoch 2 Batch 900 Loss 0.3108\n",
      "Epoch 2 Batch 1000 Loss 0.3545\n",
      "Epoch 2 Batch 1100 Loss 0.2808\n",
      "Epoch 2 Batch 1200 Loss 0.3203\n",
      "Epoch 2 Batch 1300 Loss 0.2718\n",
      "Epoch 2 Batch 1400 Loss 0.2469\n",
      "Epoch 2 Loss 0.3412\n",
      "Time taken for 1 epoch 812.5574917793274 sec\n",
      "\n",
      "Epoch 3 Batch 0 Loss 0.1765\n",
      "Epoch 3 Batch 100 Loss 0.2291\n",
      "Epoch 3 Batch 200 Loss 0.2306\n",
      "Epoch 3 Batch 300 Loss 0.2414\n",
      "Epoch 3 Batch 400 Loss 0.1730\n",
      "Epoch 3 Batch 500 Loss 0.2304\n",
      "Epoch 3 Batch 600 Loss 0.2145\n",
      "Epoch 3 Batch 700 Loss 0.1668\n",
      "Epoch 3 Batch 800 Loss 0.1534\n",
      "Epoch 3 Batch 900 Loss 0.1965\n",
      "Epoch 3 Batch 1000 Loss 0.2329\n",
      "Epoch 3 Batch 1100 Loss 0.1731\n",
      "Epoch 3 Batch 1200 Loss 0.2175\n",
      "Epoch 3 Batch 1300 Loss 0.1760\n",
      "Epoch 3 Batch 1400 Loss 0.1679\n",
      "Epoch 3 Loss 0.2087\n",
      "Time taken for 1 epoch 810.3626441955566 sec\n",
      "\n",
      "Epoch 4 Batch 0 Loss 0.1052\n",
      "Epoch 4 Batch 100 Loss 0.1388\n",
      "Epoch 4 Batch 200 Loss 0.1501\n",
      "Epoch 4 Batch 300 Loss 0.1610\n",
      "Epoch 4 Batch 400 Loss 0.1163\n",
      "Epoch 4 Batch 500 Loss 0.1628\n",
      "Epoch 4 Batch 600 Loss 0.1551\n",
      "Epoch 4 Batch 700 Loss 0.1248\n",
      "Epoch 4 Batch 800 Loss 0.0994\n",
      "Epoch 4 Batch 900 Loss 0.1422\n",
      "Epoch 4 Batch 1000 Loss 0.1704\n",
      "Epoch 4 Batch 1100 Loss 0.1243\n",
      "Epoch 4 Batch 1200 Loss 0.1679\n",
      "Epoch 4 Batch 1300 Loss 0.1253\n",
      "Epoch 4 Batch 1400 Loss 0.1263\n",
      "Epoch 4 Loss 0.1451\n",
      "Time taken for 1 epoch 843.0915417671204 sec\n",
      "\n",
      "Epoch 5 Batch 0 Loss 0.0712\n",
      "Epoch 5 Batch 100 Loss 0.0948\n",
      "Epoch 5 Batch 200 Loss 0.1085\n",
      "Epoch 5 Batch 300 Loss 0.1214\n",
      "Epoch 5 Batch 400 Loss 0.0811\n",
      "Epoch 5 Batch 500 Loss 0.1113\n",
      "Epoch 5 Batch 600 Loss 0.1174\n",
      "Epoch 5 Batch 700 Loss 0.0927\n",
      "Epoch 5 Batch 800 Loss 0.0731\n",
      "Epoch 5 Batch 900 Loss 0.1019\n",
      "Epoch 5 Batch 1000 Loss 0.1203\n",
      "Epoch 5 Batch 1100 Loss 0.0923\n",
      "Epoch 5 Batch 1200 Loss 0.1297\n",
      "Epoch 5 Batch 1300 Loss 0.0966\n",
      "Epoch 5 Batch 1400 Loss 0.0919\n",
      "Epoch 5 Loss 0.1058\n",
      "Time taken for 1 epoch 842.3024523258209 sec\n",
      "\n",
      "Epoch 6 Batch 0 Loss 0.0594\n",
      "Epoch 6 Batch 100 Loss 0.0765\n",
      "Epoch 6 Batch 200 Loss 0.0836\n",
      "Epoch 6 Batch 300 Loss 0.0973\n",
      "Epoch 6 Batch 400 Loss 0.0622\n",
      "Epoch 6 Batch 500 Loss 0.0846\n",
      "Epoch 6 Batch 600 Loss 0.0862\n",
      "Epoch 6 Batch 700 Loss 0.0781\n",
      "Epoch 6 Batch 800 Loss 0.0580\n",
      "Epoch 6 Batch 900 Loss 0.0823\n",
      "Epoch 6 Batch 1000 Loss 0.0889\n",
      "Epoch 6 Batch 1100 Loss 0.0677\n",
      "Epoch 6 Batch 1200 Loss 0.1025\n",
      "Epoch 6 Batch 1300 Loss 0.0771\n",
      "Epoch 6 Batch 1400 Loss 0.0715\n",
      "Epoch 6 Loss 0.0811\n",
      "Time taken for 1 epoch 842.7768211364746 sec\n",
      "\n",
      "Epoch 7 Batch 0 Loss 0.0493\n",
      "Epoch 7 Batch 100 Loss 0.0594\n",
      "Epoch 7 Batch 200 Loss 0.0637\n",
      "Epoch 7 Batch 300 Loss 0.0722\n",
      "Epoch 7 Batch 400 Loss 0.0466\n",
      "Epoch 7 Batch 500 Loss 0.0638\n",
      "Epoch 7 Batch 600 Loss 0.0632\n",
      "Epoch 7 Batch 700 Loss 0.0568\n",
      "Epoch 7 Batch 800 Loss 0.0511\n",
      "Epoch 7 Batch 900 Loss 0.0637\n",
      "Epoch 7 Batch 1000 Loss 0.0734\n",
      "Epoch 7 Batch 1100 Loss 0.0566\n",
      "Epoch 7 Batch 1200 Loss 0.0770\n",
      "Epoch 7 Batch 1300 Loss 0.0685\n",
      "Epoch 7 Batch 1400 Loss 0.0607\n",
      "Epoch 7 Loss 0.0660\n",
      "Time taken for 1 epoch 824.3606491088867 sec\n",
      "\n",
      "Epoch 8 Batch 0 Loss 0.0439\n",
      "Epoch 8 Batch 100 Loss 0.0523\n",
      "Epoch 8 Batch 200 Loss 0.0578\n",
      "Epoch 8 Batch 300 Loss 0.0637\n",
      "Epoch 8 Batch 400 Loss 0.0410\n",
      "Epoch 8 Batch 500 Loss 0.0525\n",
      "Epoch 8 Batch 600 Loss 0.0544\n",
      "Epoch 8 Batch 700 Loss 0.0492\n",
      "Epoch 8 Batch 800 Loss 0.0393\n",
      "Epoch 8 Batch 900 Loss 0.0574\n",
      "Epoch 8 Batch 1000 Loss 0.0608\n",
      "Epoch 8 Batch 1100 Loss 0.0424\n",
      "Epoch 8 Batch 1200 Loss 0.0667\n",
      "Epoch 8 Batch 1300 Loss 0.0597\n",
      "Epoch 8 Batch 1400 Loss 0.0421\n",
      "Epoch 8 Loss 0.0532\n",
      "Time taken for 1 epoch 806.0407903194427 sec\n",
      "\n",
      "Epoch 9 Batch 0 Loss 0.0302\n",
      "Epoch 9 Batch 100 Loss 0.0401\n",
      "Epoch 9 Batch 200 Loss 0.0403\n",
      "Epoch 9 Batch 300 Loss 0.0446\n",
      "Epoch 9 Batch 400 Loss 0.0337\n",
      "Epoch 9 Batch 500 Loss 0.0432\n",
      "Epoch 9 Batch 600 Loss 0.0454\n",
      "Epoch 9 Batch 700 Loss 0.0555\n",
      "Epoch 9 Batch 800 Loss 0.0409\n",
      "Epoch 9 Batch 900 Loss 0.0511\n",
      "Epoch 9 Batch 1000 Loss 0.0608\n",
      "Epoch 9 Batch 1100 Loss 0.0429\n",
      "Epoch 9 Batch 1200 Loss 0.0629\n",
      "Epoch 9 Batch 1300 Loss 0.0505\n",
      "Epoch 9 Batch 1400 Loss 0.0406\n",
      "Epoch 9 Loss 0.0505\n",
      "Time taken for 1 epoch 840.9912674427032 sec\n",
      "\n",
      "Epoch 10 Batch 0 Loss 0.0313\n",
      "Epoch 10 Batch 100 Loss 0.0346\n",
      "Epoch 10 Batch 200 Loss 0.0377\n",
      "Epoch 10 Batch 300 Loss 0.0450\n",
      "Epoch 10 Batch 400 Loss 0.0274\n",
      "Epoch 10 Batch 500 Loss 0.0343\n",
      "Epoch 10 Batch 600 Loss 0.0445\n",
      "Epoch 10 Batch 700 Loss 0.0412\n",
      "Epoch 10 Batch 800 Loss 0.0301\n",
      "Epoch 10 Batch 900 Loss 0.0328\n",
      "Epoch 10 Batch 1000 Loss 0.1013\n",
      "Epoch 10 Batch 1100 Loss 0.0302\n",
      "Epoch 10 Batch 1200 Loss 0.0433\n",
      "Epoch 10 Batch 1300 Loss 0.0349\n",
      "Epoch 10 Batch 1400 Loss 0.0319\n",
      "Epoch 10 Loss 0.0373\n",
      "Time taken for 1 epoch 841.2333152294159 sec\n",
      "\n"
     ]
    }
   ],
   "source": [
    "EPOCHS = 10\n",
    "\n",
    "for epoch in range(EPOCHS):\n",
    "    start = time.time()\n",
    "\n",
    "    enc_hidden = encoder.initialize_hidden_state()\n",
    "    total_loss = 0\n",
    "\n",
    "    for (batch, (inp, targ)) in enumerate(dataset.take(steps_per_epoch)):\n",
    "        batch_loss = train_step(inp, targ, enc_hidden)\n",
    "        total_loss += batch_loss\n",
    "\n",
    "        if batch % 100 == 0:\n",
    "            print('Epoch {} Batch {} Loss {:.4f}'.format(epoch + 1,\n",
    "                                                     batch,\n",
    "                                                     batch_loss.numpy()))\n",
    "  # saving (checkpoint) the model every 2 epochs\n",
    "    if (epoch + 1) % 2 == 0:\n",
    "        checkpoint.save(file_prefix = checkpoint_prefix)\n",
    "\n",
    "    print('Epoch {} Loss {:.4f}'.format(epoch + 1,\n",
    "                                      total_loss / steps_per_epoch))\n",
    "    print('Time taken for 1 epoch {} sec\\n'.format(time.time() - start))"
   ]
  },
  {
   "cell_type": "code",
   "execution_count": 35,
   "metadata": {},
   "outputs": [],
   "source": [
    "def evaluate(sentence):\n",
    "    attention_plot = np.zeros((max_length_targ, max_length_inp))\n",
    "\n",
    "    sentence = preprocess_sentence(sentence)\n",
    "\n",
    "    inputs = [inp_lang.word_index[i] for i in sentence.split(' ')]\n",
    "    inputs = tf.keras.preprocessing.sequence.pad_sequences([inputs],\n",
    "                                                           maxlen=max_length_inp,\n",
    "                                                           padding='post')\n",
    "    inputs = tf.convert_to_tensor(inputs)\n",
    "\n",
    "    result = ''\n",
    "\n",
    "    hidden = [tf.zeros((1, units))]\n",
    "    enc_out, enc_hidden = encoder(inputs, hidden)\n",
    "\n",
    "    dec_hidden = enc_hidden\n",
    "    dec_input = tf.expand_dims([targ_lang.word_index['<start>']], 0)\n",
    "\n",
    "    for t in range(max_length_targ):\n",
    "        predictions, dec_hidden, attention_weights = decoder(dec_input,\n",
    "                                                             dec_hidden,\n",
    "                                                             enc_out)\n",
    "\n",
    "        # storing the attention weights to plot later on\n",
    "        attention_weights = tf.reshape(attention_weights, (-1, ))\n",
    "        attention_plot[t] = attention_weights.numpy()\n",
    "\n",
    "        predicted_id = tf.argmax(predictions[0]).numpy()\n",
    "\n",
    "        result += targ_lang.index_word[predicted_id] + ' '\n",
    "\n",
    "        if targ_lang.index_word[predicted_id] == '<end>':\n",
    "            return result, sentence, attention_plot\n",
    "\n",
    "        # the predicted ID is fed back into the model\n",
    "        dec_input = tf.expand_dims([predicted_id], 0)\n",
    "\n",
    "    return result, sentence, attention_plot"
   ]
  },
  {
   "cell_type": "code",
   "execution_count": 36,
   "metadata": {},
   "outputs": [],
   "source": [
    "# function for plotting the attention weights\n",
    "def plot_attention(attention, sentence, predicted_sentence):\n",
    "    fig = plt.figure(figsize=(10,10))\n",
    "    ax = fig.add_subplot(1, 1, 1)\n",
    "    ax.matshow(attention, cmap='viridis')\n",
    "\n",
    "    fontdict = {'fontsize': 14}\n",
    "\n",
    "    ax.set_xticklabels([''] + sentence, fontdict=fontdict, rotation=90)\n",
    "    ax.set_yticklabels([''] + predicted_sentence, fontdict=fontdict)\n",
    "\n",
    "    ax.xaxis.set_major_locator(ticker.MultipleLocator(1))\n",
    "    ax.yaxis.set_major_locator(ticker.MultipleLocator(1))\n",
    "\n",
    "    plt.show()"
   ]
  },
  {
   "cell_type": "code",
   "execution_count": 37,
   "metadata": {},
   "outputs": [],
   "source": [
    "def translate(sentence):\n",
    "    result, sentence, attention_plot = evaluate(sentence)\n",
    "\n",
    "    print('Input: %s' % (sentence))\n",
    "    print('Predicted translation: {}'.format(result))\n",
    "\n",
    "    attention_plot = attention_plot[:len(result.split(' ')), :len(sentence.split(' '))]\n",
    "    plot_attention(attention_plot, sentence.split(' '), result.split(' '))"
   ]
  },
  {
   "cell_type": "code",
   "execution_count": 38,
   "metadata": {},
   "outputs": [
    {
     "data": {
      "text/plain": [
       "<tensorflow.python.training.tracking.util.CheckpointLoadStatus at 0x7f020483aeb8>"
      ]
     },
     "execution_count": 38,
     "metadata": {},
     "output_type": "execute_result"
    }
   ],
   "source": [
    "# restoring the latest checkpoint in checkpoint_dir\n",
    "checkpoint.restore(tf.train.latest_checkpoint(checkpoint_dir))"
   ]
  },
  {
   "cell_type": "code",
   "execution_count": 39,
   "metadata": {},
   "outputs": [
    {
     "name": "stdout",
     "output_type": "stream",
     "text": [
      "Input: <start> hace mucho frio aqui . <end>\n",
      "Predicted translation: it s very cold here very interesting . <end> \n"
     ]
    },
    {
     "data": {
      "image/png": "[encoded data removed]",
      "text/plain": [
       "<Figure size 720x720 with 1 Axes>"
      ]
     },
     "metadata": {
      "needs_background": "light"
     },
     "output_type": "display_data"
    }
   ],
   "source": [
    "translate(u'hace mucho frio aqui.')"
   ]
  },
  {
   "cell_type": "code",
   "execution_count": 40,
   "metadata": {},
   "outputs": [
    {
     "name": "stdout",
     "output_type": "stream",
     "text": [
      "Input: <start> esta es mi vida . <end>\n",
      "Predicted translation: this is my life . <end> \n"
     ]
    },
    {
     "data": {
      "image/png": "[encoded data removed]",
      "text/plain": [
       "<Figure size 720x720 with 1 Axes>"
      ]
     },
     "metadata": {
      "needs_background": "light"
     },
     "output_type": "display_data"
    }
   ],
   "source": [
    "translate(u'esta es mi vida.')"
   ]
  },
  {
   "cell_type": "code",
   "execution_count": 41,
   "metadata": {},
   "outputs": [
    {
     "name": "stdout",
     "output_type": "stream",
     "text": [
      "Input: <start> ¿ todavia estan en casa ? <end>\n",
      "Predicted translation: are you still at home ? <end> \n"
     ]
    },
    {
     "data": {
      "image/png": "[encoded data removed]",
      "text/plain": [
       "<Figure size 720x720 with 1 Axes>"
      ]
     },
     "metadata": {
      "needs_background": "light"
     },
     "output_type": "display_data"
    }
   ],
   "source": [
    "translate(u'¿todavia estan en casa?')"
   ]
  },
  {
   "cell_type": "code",
   "execution_count": 42,
   "metadata": {},
   "outputs": [
    {
     "name": "stdout",
     "output_type": "stream",
     "text": [
      "Input: <start> trata de averiguarlo . <end>\n",
      "Predicted translation: try to find it . <end> \n"
     ]
    },
    {
     "data": {
      "image/png": "[encoded data removed]",
      "text/plain": [
       "<Figure size 720x720 with 1 Axes>"
      ]
     },
     "metadata": {
      "needs_background": "light"
     },
     "output_type": "display_data"
    }
   ],
   "source": [
    "# wrong translation\n",
    "translate(u'trata de averiguarlo.')\n",
    "# when applied google translate, it return \"try to find out.\""
   ]
  },
  {
   "cell_type": "code",
   "execution_count": null,
   "metadata": {},
   "outputs": [],
   "source": []
  },
  {
   "cell_type": "code",
   "execution_count": null,
   "metadata": {},
   "outputs": [],
   "source": []
  }
 ],
 "metadata": {
  "kernelspec": {
   "display_name": "Python 3",
   "language": "python",
   "name": "python3"
  },
  "language_info": {
   "codemirror_mode": {
    "name": "ipython",
    "version": 3
   },
   "file_extension": ".py",
   "mimetype": "text/x-python",
   "name": "python",
   "nbconvert_exporter": "python",
   "pygments_lexer": "ipython3",
   "version": "3.6.8"
  }
 },
 "nbformat": 4,
 "nbformat_minor": 2
}
