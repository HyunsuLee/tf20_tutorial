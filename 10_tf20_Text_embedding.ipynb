{
 "cells": [
  {
   "cell_type": "markdown",
   "metadata": {},
   "source": [
    "# word embedding. \n",
    "## preprocess word by projecting the n-dimensional space\n",
    "* [source site](https://www.tensorflow.org/beta/tutorials/text/word_embeddings)"
   ]
  },
  {
   "cell_type": "code",
   "execution_count": 69,
   "metadata": {},
   "outputs": [],
   "source": [
    "import tensorflow as tf\n",
    "\n",
    "from tensorflow import keras\n",
    "from tensorflow.keras import layers\n",
    "\n",
    "# The Embedding layer takes at least two arguments:\n",
    "# the number of possible words in the vocabulary, here 1000 (1 + maximum word index),\n",
    "# and the dimensionality of the embeddings, here 32.\n",
    "embedding_layer = layers.Embedding(1000, 32) # following code they use 16 dimension."
   ]
  },
  {
   "cell_type": "code",
   "execution_count": 68,
   "metadata": {},
   "outputs": [],
   "source": [
    "vocab_size = 10000\n",
    "imdb = keras.datasets.imdb\n",
    "(train_data, train_labels), (test_data, test_labels) = imdb.load_data(num_words=vocab_size)"
   ]
  },
  {
   "cell_type": "code",
   "execution_count": 50,
   "metadata": {},
   "outputs": [
    {
     "data": {
      "text/plain": [
       "\"<START> this film was just brilliant casting location scenery story direction everyone's really suited the part they played and you could just imagine being there robert <UNK> is an amazing actor and now the same being director <UNK> father came from the same scottish island as myself so i loved the fact there was a real connection with this film the witty remarks throughout the film were great it was just brilliant so much that i bought the film as soon as it was released for <UNK> and would recommend it to everyone to watch and the fly fishing was amazing really cried at the end it was so sad and you know what they say if you cry at a film it must have been good and this definitely was also <UNK> to the two little boy's that played the <UNK> of norman and paul they were just brilliant children are often left out of the <UNK> list i think because the stars that play them all grown up are such a big profile for the whole film but these children are amazing and should be praised for what they have done don't you think the whole story was so lovely because it was true and was someone's life after all that was shared with us all\""
      ]
     },
     "execution_count": 50,
     "metadata": {},
     "output_type": "execute_result"
    }
   ],
   "source": [
    "# A dictionary mapping words to an integer index\n",
    "word_index = imdb.get_word_index()\n",
    "\n",
    "# The first indices are reserved\n",
    "word_index = {k:(v+3) for k,v in word_index.items()}\n",
    "word_index[\"<PAD>\"] = 0\n",
    "word_index[\"<START>\"] = 1\n",
    "word_index[\"<UNK>\"] = 2  # unknown\n",
    "word_index[\"<UNUSED>\"] = 3\n",
    "\n",
    "reverse_word_index = dict([(value, key) for (key, value) in word_index.items()])\n",
    "\n",
    "def decode_review(text):\n",
    "    return ' '.join([reverse_word_index.get(i, '?') for i in text])\n",
    "\n",
    "decode_review(train_data[0])"
   ]
  },
  {
   "cell_type": "code",
   "execution_count": 51,
   "metadata": {},
   "outputs": [],
   "source": [
    "maxlen = 500\n",
    "\n",
    "train_data = keras.preprocessing.sequence.pad_sequences(train_data,\n",
    "                                                        value=word_index[\"<PAD>\"],\n",
    "                                                        padding='post',\n",
    "                                                        maxlen=maxlen)\n",
    "# insert 0 value end of the vector to maxlen\n",
    "test_data = keras.preprocessing.sequence.pad_sequences(test_data,\n",
    "                                                       value=word_index[\"<PAD>\"],\n",
    "                                                       padding='post',\n",
    "                                                       maxlen=maxlen)"
   ]
  },
  {
   "cell_type": "code",
   "execution_count": 53,
   "metadata": {},
   "outputs": [
    {
     "data": {
      "text/plain": [
       "array([   1,   14,   22,   16,   43,  530,  973, 1622, 1385,   65,  458,\n",
       "       4468,   66, 3941,    4,  173,   36,  256,    5,   25,  100,   43,\n",
       "        838,  112,   50,  670,    2,    9,   35,  480,  284,    5,  150,\n",
       "          4,  172,  112,  167,    2,  336,  385,   39,    4,  172, 4536,\n",
       "       1111,   17,  546,   38,   13,  447,    4,  192,   50,   16,    6,\n",
       "        147, 2025,   19,   14,   22,    4, 1920, 4613,  469,    4,   22,\n",
       "         71,   87,   12,   16,   43,  530,   38,   76,   15,   13, 1247,\n",
       "          4,   22,   17,  515,   17,   12,   16,  626,   18,    2,    5,\n",
       "         62,  386,   12,    8,  316,    8,  106,    5,    4, 2223, 5244,\n",
       "         16,  480,   66, 3785,   33,    4,  130,   12,   16,   38,  619,\n",
       "          5,   25,  124,   51,   36,  135,   48,   25, 1415,   33,    6,\n",
       "         22,   12,  215,   28,   77,   52,    5,   14,  407,   16,   82,\n",
       "          2,    8,    4,  107,  117, 5952,   15,  256,    4,    2,    7,\n",
       "       3766,    5,  723,   36,   71,   43,  530,  476,   26,  400,  317,\n",
       "         46,    7,    4,    2, 1029,   13,  104,   88,    4,  381,   15,\n",
       "        297,   98,   32, 2071,   56,   26,  141,    6,  194, 7486,   18,\n",
       "          4,  226,   22,   21,  134,  476,   26,  480,    5,  144,   30,\n",
       "       5535,   18,   51,   36,   28,  224,   92,   25,  104,    4,  226,\n",
       "         65,   16,   38, 1334,   88,   12,   16,  283,    5,   16, 4472,\n",
       "        113,  103,   32,   15,   16, 5345,   19,  178,   32,    0,    0,\n",
       "          0,    0,    0,    0,    0,    0,    0,    0,    0,    0,    0,\n",
       "          0,    0,    0,    0,    0,    0,    0,    0,    0,    0,    0,\n",
       "          0,    0,    0,    0,    0,    0,    0,    0,    0,    0,    0,\n",
       "          0,    0,    0,    0,    0,    0,    0,    0,    0,    0,    0,\n",
       "          0,    0,    0,    0,    0,    0,    0,    0,    0,    0,    0,\n",
       "          0,    0,    0,    0,    0,    0,    0,    0,    0,    0,    0,\n",
       "          0,    0,    0,    0,    0,    0,    0,    0,    0,    0,    0,\n",
       "          0,    0,    0,    0,    0,    0,    0,    0,    0,    0,    0,\n",
       "          0,    0,    0,    0,    0,    0,    0,    0,    0,    0,    0,\n",
       "          0,    0,    0,    0,    0,    0,    0,    0,    0,    0,    0,\n",
       "          0,    0,    0,    0,    0,    0,    0,    0,    0,    0,    0,\n",
       "          0,    0,    0,    0,    0,    0,    0,    0,    0,    0,    0,\n",
       "          0,    0,    0,    0,    0,    0,    0,    0,    0,    0,    0,\n",
       "          0,    0,    0,    0,    0,    0,    0,    0,    0,    0,    0,\n",
       "          0,    0,    0,    0,    0,    0,    0,    0,    0,    0,    0,\n",
       "          0,    0,    0,    0,    0,    0,    0,    0,    0,    0,    0,\n",
       "          0,    0,    0,    0,    0,    0,    0,    0,    0,    0,    0,\n",
       "          0,    0,    0,    0,    0,    0,    0,    0,    0,    0,    0,\n",
       "          0,    0,    0,    0,    0,    0,    0,    0,    0,    0,    0,\n",
       "          0,    0,    0,    0,    0,    0,    0,    0,    0,    0,    0,\n",
       "          0,    0,    0,    0,    0,    0,    0,    0,    0,    0,    0,\n",
       "          0,    0,    0,    0,    0,    0,    0,    0,    0,    0,    0,\n",
       "          0,    0,    0,    0,    0,    0,    0,    0,    0,    0,    0,\n",
       "          0,    0,    0,    0,    0,    0,    0,    0,    0,    0,    0,\n",
       "          0,    0,    0,    0,    0,    0,    0,    0,    0,    0,    0,\n",
       "          0,    0,    0,    0,    0], dtype=int32)"
      ]
     },
     "execution_count": 53,
     "metadata": {},
     "output_type": "execute_result"
    }
   ],
   "source": [
    "train_data[0]"
   ]
  },
  {
   "cell_type": "code",
   "execution_count": 54,
   "metadata": {},
   "outputs": [
    {
     "name": "stdout",
     "output_type": "stream",
     "text": [
      "Model: \"sequential\"\n",
      "_________________________________________________________________\n",
      "Layer (type)                 Output Shape              Param #   \n",
      "=================================================================\n",
      "embedding_1 (Embedding)      (None, 500, 16)           160000    \n",
      "_________________________________________________________________\n",
      "global_average_pooling1d (Gl (None, 16)                0         \n",
      "_________________________________________________________________\n",
      "dense (Dense)                (None, 16)                272       \n",
      "_________________________________________________________________\n",
      "dense_1 (Dense)              (None, 1)                 17        \n",
      "=================================================================\n",
      "Total params: 160,289\n",
      "Trainable params: 160,289\n",
      "Non-trainable params: 0\n",
      "_________________________________________________________________\n"
     ]
    }
   ],
   "source": [
    "embedding_dim=16\n",
    "\n",
    "model = keras.Sequential([\n",
    "  layers.Embedding(vocab_size, embedding_dim, input_length=maxlen),\n",
    "  layers.GlobalAveragePooling1D(), # make 2D(500 x 16) to 1D layer\n",
    "  layers.Dense(16, activation='relu'),\n",
    "  layers.Dense(1, activation='sigmoid')\n",
    "])\n",
    "\n",
    "model.summary()"
   ]
  },
  {
   "cell_type": "code",
   "execution_count": 55,
   "metadata": {},
   "outputs": [
    {
     "name": "stderr",
     "output_type": "stream",
     "text": [
      "WARNING: Logging before flag parsing goes to stderr.\n",
      "W0628 20:58:23.545875 140166498817856 deprecation.py:323] From /home/hyunsu/anaconda3/envs/tf20_py36/lib/python3.6/site-packages/tensorflow/python/ops/math_grad.py:1250: add_dispatch_support.<locals>.wrapper (from tensorflow.python.ops.array_ops) is deprecated and will be removed in a future version.\n",
      "Instructions for updating:\n",
      "Use tf.where in 2.0, which has the same broadcast rule as np.where\n"
     ]
    },
    {
     "name": "stdout",
     "output_type": "stream",
     "text": [
      "Train on 20000 samples, validate on 5000 samples\n",
      "Epoch 1/30\n",
      "20000/20000 [==============================] - 1s 44us/sample - loss: 0.6923 - accuracy: 0.5141 - val_loss: 0.6907 - val_accuracy: 0.5012\n",
      "Epoch 2/30\n",
      "20000/20000 [==============================] - 0s 24us/sample - loss: 0.6875 - accuracy: 0.5655 - val_loss: 0.6829 - val_accuracy: 0.6602\n",
      "Epoch 3/30\n",
      "20000/20000 [==============================] - 0s 24us/sample - loss: 0.6748 - accuracy: 0.6618 - val_loss: 0.6645 - val_accuracy: 0.7320\n",
      "Epoch 4/30\n",
      "20000/20000 [==============================] - 0s 24us/sample - loss: 0.6492 - accuracy: 0.7377 - val_loss: 0.6320 - val_accuracy: 0.7776\n",
      "Epoch 5/30\n",
      "20000/20000 [==============================] - 0s 24us/sample - loss: 0.6094 - accuracy: 0.7842 - val_loss: 0.5879 - val_accuracy: 0.7786\n",
      "Epoch 6/30\n",
      "20000/20000 [==============================] - 0s 24us/sample - loss: 0.5585 - accuracy: 0.8172 - val_loss: 0.5364 - val_accuracy: 0.8184\n",
      "Epoch 7/30\n",
      "20000/20000 [==============================] - 0s 24us/sample - loss: 0.5041 - accuracy: 0.8400 - val_loss: 0.4868 - val_accuracy: 0.8430\n",
      "Epoch 8/30\n",
      "20000/20000 [==============================] - 0s 24us/sample - loss: 0.4518 - accuracy: 0.8613 - val_loss: 0.4439 - val_accuracy: 0.8456\n",
      "Epoch 9/30\n",
      "20000/20000 [==============================] - 0s 24us/sample - loss: 0.4070 - accuracy: 0.8729 - val_loss: 0.4075 - val_accuracy: 0.8620\n",
      "Epoch 10/30\n",
      "20000/20000 [==============================] - 0s 24us/sample - loss: 0.3702 - accuracy: 0.8824 - val_loss: 0.3809 - val_accuracy: 0.8634\n",
      "Epoch 11/30\n",
      "20000/20000 [==============================] - 0s 24us/sample - loss: 0.3398 - accuracy: 0.8903 - val_loss: 0.3591 - val_accuracy: 0.8714\n",
      "Epoch 12/30\n",
      "20000/20000 [==============================] - 0s 24us/sample - loss: 0.3162 - accuracy: 0.8946 - val_loss: 0.3437 - val_accuracy: 0.8730\n",
      "Epoch 13/30\n",
      "20000/20000 [==============================] - 0s 24us/sample - loss: 0.2955 - accuracy: 0.9005 - val_loss: 0.3301 - val_accuracy: 0.8758\n",
      "Epoch 14/30\n",
      "20000/20000 [==============================] - 0s 24us/sample - loss: 0.2779 - accuracy: 0.9069 - val_loss: 0.3197 - val_accuracy: 0.8782\n",
      "Epoch 15/30\n",
      "20000/20000 [==============================] - 0s 24us/sample - loss: 0.2641 - accuracy: 0.9101 - val_loss: 0.3117 - val_accuracy: 0.8810\n",
      "Epoch 16/30\n",
      "20000/20000 [==============================] - 0s 24us/sample - loss: 0.2502 - accuracy: 0.9154 - val_loss: 0.3089 - val_accuracy: 0.8788\n",
      "Epoch 17/30\n",
      "20000/20000 [==============================] - 0s 24us/sample - loss: 0.2386 - accuracy: 0.9197 - val_loss: 0.2995 - val_accuracy: 0.8850\n",
      "Epoch 18/30\n",
      "20000/20000 [==============================] - 0s 24us/sample - loss: 0.2276 - accuracy: 0.9222 - val_loss: 0.2946 - val_accuracy: 0.8876\n",
      "Epoch 19/30\n",
      "20000/20000 [==============================] - 0s 24us/sample - loss: 0.2180 - accuracy: 0.9244 - val_loss: 0.2907 - val_accuracy: 0.8884\n",
      "Epoch 20/30\n",
      "20000/20000 [==============================] - 0s 24us/sample - loss: 0.2089 - accuracy: 0.9282 - val_loss: 0.2892 - val_accuracy: 0.8866\n",
      "Epoch 21/30\n",
      "20000/20000 [==============================] - 0s 24us/sample - loss: 0.2014 - accuracy: 0.9305 - val_loss: 0.2854 - val_accuracy: 0.8898\n",
      "Epoch 22/30\n",
      "20000/20000 [==============================] - 0s 24us/sample - loss: 0.1958 - accuracy: 0.9330 - val_loss: 0.2857 - val_accuracy: 0.8878\n",
      "Epoch 23/30\n",
      "20000/20000 [==============================] - 0s 24us/sample - loss: 0.1878 - accuracy: 0.9350 - val_loss: 0.2844 - val_accuracy: 0.8898\n",
      "Epoch 24/30\n",
      "20000/20000 [==============================] - 0s 24us/sample - loss: 0.1810 - accuracy: 0.9386 - val_loss: 0.2802 - val_accuracy: 0.8926\n",
      "Epoch 25/30\n",
      "20000/20000 [==============================] - 0s 24us/sample - loss: 0.1740 - accuracy: 0.9409 - val_loss: 0.2803 - val_accuracy: 0.8902\n",
      "Epoch 26/30\n",
      "20000/20000 [==============================] - 0s 24us/sample - loss: 0.1693 - accuracy: 0.9433 - val_loss: 0.2816 - val_accuracy: 0.8914\n",
      "Epoch 27/30\n",
      "20000/20000 [==============================] - 0s 24us/sample - loss: 0.1639 - accuracy: 0.9447 - val_loss: 0.2811 - val_accuracy: 0.8914\n",
      "Epoch 28/30\n",
      "20000/20000 [==============================] - 0s 24us/sample - loss: 0.1583 - accuracy: 0.9481 - val_loss: 0.2794 - val_accuracy: 0.8932\n",
      "Epoch 29/30\n",
      "20000/20000 [==============================] - 0s 24us/sample - loss: 0.1531 - accuracy: 0.9491 - val_loss: 0.2804 - val_accuracy: 0.8946\n",
      "Epoch 30/30\n",
      "20000/20000 [==============================] - 0s 24us/sample - loss: 0.1484 - accuracy: 0.9517 - val_loss: 0.2844 - val_accuracy: 0.8916\n"
     ]
    }
   ],
   "source": [
    "model.compile(optimizer='adam',\n",
    "              loss='binary_crossentropy',\n",
    "              metrics=['accuracy'])\n",
    "\n",
    "history = model.fit(\n",
    "    train_data,\n",
    "    train_labels,\n",
    "    epochs=30,\n",
    "    batch_size=512,\n",
    "    validation_split=0.2)"
   ]
  },
  {
   "cell_type": "code",
   "execution_count": 60,
   "metadata": {},
   "outputs": [
    {
     "data": {
      "image/png": "[encoded data removed]",
      "text/plain": [
       "<Figure size 864x648 with 1 Axes>"
      ]
     },
     "metadata": {
      "needs_background": "light"
     },
     "output_type": "display_data"
    },
    {
     "data": {
      "image/png": "[encoded data removed]",
      "text/plain": [
       "<Figure size 864x648 with 1 Axes>"
      ]
     },
     "metadata": {
      "needs_background": "light"
     },
     "output_type": "display_data"
    }
   ],
   "source": [
    "import matplotlib.pyplot as plt\n",
    "\n",
    "history_dict = history.history\n",
    "\n",
    "acc = history_dict['accuracy']\n",
    "val_acc = history_dict['val_accuracy']\n",
    "loss = history_dict['loss']\n",
    "val_loss = history_dict['val_loss']\n",
    "\n",
    "epochs = range(1, len(acc) + 1)\n",
    "\n",
    "plt.figure(figsize=(12,9))\n",
    "plt.plot(epochs, loss, 'bo', label='Training loss')\n",
    "plt.plot(epochs, val_loss, 'b', label='Validation loss')\n",
    "plt.title('Training and validation loss')\n",
    "plt.xlabel('Epochs')\n",
    "plt.ylabel('Loss')\n",
    "plt.legend()\n",
    "plt.show()\n",
    "\n",
    "plt.figure(figsize=(12,9))\n",
    "plt.plot(epochs, acc, 'bo', label='Training acc')\n",
    "plt.plot(epochs, val_acc, 'b', label='Validation acc')\n",
    "plt.title('Training and validation accuracy')\n",
    "plt.xlabel('Epochs')\n",
    "plt.ylabel('Accuracy')\n",
    "plt.legend(loc='lower right')\n",
    "plt.ylim((0.5,1))\n",
    "plt.show()"
   ]
  },
  {
   "cell_type": "code",
   "execution_count": 61,
   "metadata": {},
   "outputs": [
    {
     "name": "stdout",
     "output_type": "stream",
     "text": [
      "(10000, 16)\n"
     ]
    }
   ],
   "source": [
    "e = model.layers[0] # extract embedding layer\n",
    "weights = e.get_weights()[0] # extract trained weight variable in embedding layer\n",
    "print(weights.shape) # shape: (vocab_size, embedding_dim)"
   ]
  },
  {
   "cell_type": "code",
   "execution_count": 62,
   "metadata": {},
   "outputs": [],
   "source": [
    "import io\n",
    "\n",
    "out_v = io.open('vecs.tsv', 'w', encoding='utf-8')\n",
    "out_m = io.open('meta.tsv', 'w', encoding='utf-8')\n",
    "for word_num in range(vocab_size):\n",
    "  word = reverse_word_index[word_num] # retriev each words\n",
    "  embeddings = weights[word_num]  # retrieve weight variable of each words\n",
    "  out_m.write(word + \"\\n\")\n",
    "  out_v.write('\\t'.join([str(x) for x in embeddings]) + \"\\n\")\n",
    "out_v.close()\n",
    "out_m.close()"
   ]
  },
  {
   "cell_type": "markdown",
   "metadata": {},
   "source": [
    "## next tutorial has simlar code.\n",
    "* [source site](https://www.tensorflow.org/beta/tutorials/keras/basic_text_classification#evaluate_the_model)"
   ]
  },
  {
   "cell_type": "code",
   "execution_count": 67,
   "metadata": {},
   "outputs": [],
   "source": [
    "import numpy as np"
   ]
  },
  {
   "cell_type": "code",
   "execution_count": 70,
   "metadata": {},
   "outputs": [],
   "source": [
    "(train_data, train_labels), (test_data, test_labels) = imdb.load_data(num_words=10000)"
   ]
  },
  {
   "cell_type": "code",
   "execution_count": 71,
   "metadata": {},
   "outputs": [
    {
     "name": "stdout",
     "output_type": "stream",
     "text": [
      "Training entries: 25000, labels: 25000\n"
     ]
    }
   ],
   "source": [
    "print(\"Training entries: {}, labels: {}\".format(len(train_data), len(train_labels)))"
   ]
  },
  {
   "cell_type": "code",
   "execution_count": 72,
   "metadata": {},
   "outputs": [
    {
     "name": "stdout",
     "output_type": "stream",
     "text": [
      "[1, 14, 22, 16, 43, 530, 973, 1622, 1385, 65, 458, 4468, 66, 3941, 4, 173, 36, 256, 5, 25, 100, 43, 838, 112, 50, 670, 2, 9, 35, 480, 284, 5, 150, 4, 172, 112, 167, 2, 336, 385, 39, 4, 172, 4536, 1111, 17, 546, 38, 13, 447, 4, 192, 50, 16, 6, 147, 2025, 19, 14, 22, 4, 1920, 4613, 469, 4, 22, 71, 87, 12, 16, 43, 530, 38, 76, 15, 13, 1247, 4, 22, 17, 515, 17, 12, 16, 626, 18, 2, 5, 62, 386, 12, 8, 316, 8, 106, 5, 4, 2223, 5244, 16, 480, 66, 3785, 33, 4, 130, 12, 16, 38, 619, 5, 25, 124, 51, 36, 135, 48, 25, 1415, 33, 6, 22, 12, 215, 28, 77, 52, 5, 14, 407, 16, 82, 2, 8, 4, 107, 117, 5952, 15, 256, 4, 2, 7, 3766, 5, 723, 36, 71, 43, 530, 476, 26, 400, 317, 46, 7, 4, 2, 1029, 13, 104, 88, 4, 381, 15, 297, 98, 32, 2071, 56, 26, 141, 6, 194, 7486, 18, 4, 226, 22, 21, 134, 476, 26, 480, 5, 144, 30, 5535, 18, 51, 36, 28, 224, 92, 25, 104, 4, 226, 65, 16, 38, 1334, 88, 12, 16, 283, 5, 16, 4472, 113, 103, 32, 15, 16, 5345, 19, 178, 32]\n"
     ]
    }
   ],
   "source": [
    "print(train_data[0])"
   ]
  },
  {
   "cell_type": "code",
   "execution_count": 73,
   "metadata": {},
   "outputs": [
    {
     "data": {
      "text/plain": [
       "(218, 189)"
      ]
     },
     "execution_count": 73,
     "metadata": {},
     "output_type": "execute_result"
    }
   ],
   "source": [
    "len(train_data[0]), len(train_data[1])"
   ]
  },
  {
   "cell_type": "code",
   "execution_count": 74,
   "metadata": {},
   "outputs": [],
   "source": [
    "# A dictionary mapping words to an integer index\n",
    "word_index = imdb.get_word_index()\n",
    "\n",
    "# The first indices are reserved\n",
    "word_index = {k:(v+3) for k,v in word_index.items()}\n",
    "word_index[\"<PAD>\"] = 0\n",
    "word_index[\"<START>\"] = 1\n",
    "word_index[\"<UNK>\"] = 2  # unknown\n",
    "word_index[\"<UNUSED>\"] = 3\n",
    "\n",
    "reverse_word_index = dict([(value, key) for (key, value) in word_index.items()])\n",
    "\n",
    "def decode_review(text):\n",
    "    return ' '.join([reverse_word_index.get(i, '?') for i in text])"
   ]
  },
  {
   "cell_type": "code",
   "execution_count": 75,
   "metadata": {},
   "outputs": [
    {
     "data": {
      "text/plain": [
       "\"<START> this film was just brilliant casting location scenery story direction everyone's really suited the part they played and you could just imagine being there robert <UNK> is an amazing actor and now the same being director <UNK> father came from the same scottish island as myself so i loved the fact there was a real connection with this film the witty remarks throughout the film were great it was just brilliant so much that i bought the film as soon as it was released for <UNK> and would recommend it to everyone to watch and the fly fishing was amazing really cried at the end it was so sad and you know what they say if you cry at a film it must have been good and this definitely was also <UNK> to the two little boy's that played the <UNK> of norman and paul they were just brilliant children are often left out of the <UNK> list i think because the stars that play them all grown up are such a big profile for the whole film but these children are amazing and should be praised for what they have done don't you think the whole story was so lovely because it was true and was someone's life after all that was shared with us all\""
      ]
     },
     "execution_count": 75,
     "metadata": {},
     "output_type": "execute_result"
    }
   ],
   "source": [
    "decode_review(train_data[0])"
   ]
  },
  {
   "cell_type": "code",
   "execution_count": 76,
   "metadata": {},
   "outputs": [],
   "source": [
    "train_data = keras.preprocessing.sequence.pad_sequences(train_data,\n",
    "                                                        value=word_index[\"<PAD>\"],\n",
    "                                                        padding='post',\n",
    "                                                        maxlen=256)\n",
    "\n",
    "test_data = keras.preprocessing.sequence.pad_sequences(test_data,\n",
    "                                                       value=word_index[\"<PAD>\"],\n",
    "                                                       padding='post',\n",
    "                                                       maxlen=256)"
   ]
  },
  {
   "cell_type": "code",
   "execution_count": 77,
   "metadata": {},
   "outputs": [
    {
     "data": {
      "text/plain": [
       "(256, 256)"
      ]
     },
     "execution_count": 77,
     "metadata": {},
     "output_type": "execute_result"
    }
   ],
   "source": [
    "len(train_data[0]), len(train_data[1])"
   ]
  },
  {
   "cell_type": "code",
   "execution_count": 78,
   "metadata": {},
   "outputs": [
    {
     "name": "stdout",
     "output_type": "stream",
     "text": [
      "[   1   14   22   16   43  530  973 1622 1385   65  458 4468   66 3941\n",
      "    4  173   36  256    5   25  100   43  838  112   50  670    2    9\n",
      "   35  480  284    5  150    4  172  112  167    2  336  385   39    4\n",
      "  172 4536 1111   17  546   38   13  447    4  192   50   16    6  147\n",
      " 2025   19   14   22    4 1920 4613  469    4   22   71   87   12   16\n",
      "   43  530   38   76   15   13 1247    4   22   17  515   17   12   16\n",
      "  626   18    2    5   62  386   12    8  316    8  106    5    4 2223\n",
      " 5244   16  480   66 3785   33    4  130   12   16   38  619    5   25\n",
      "  124   51   36  135   48   25 1415   33    6   22   12  215   28   77\n",
      "   52    5   14  407   16   82    2    8    4  107  117 5952   15  256\n",
      "    4    2    7 3766    5  723   36   71   43  530  476   26  400  317\n",
      "   46    7    4    2 1029   13  104   88    4  381   15  297   98   32\n",
      " 2071   56   26  141    6  194 7486   18    4  226   22   21  134  476\n",
      "   26  480    5  144   30 5535   18   51   36   28  224   92   25  104\n",
      "    4  226   65   16   38 1334   88   12   16  283    5   16 4472  113\n",
      "  103   32   15   16 5345   19  178   32    0    0    0    0    0    0\n",
      "    0    0    0    0    0    0    0    0    0    0    0    0    0    0\n",
      "    0    0    0    0    0    0    0    0    0    0    0    0    0    0\n",
      "    0    0    0    0]\n"
     ]
    }
   ],
   "source": [
    "print(train_data[0])"
   ]
  },
  {
   "cell_type": "code",
   "execution_count": 79,
   "metadata": {},
   "outputs": [
    {
     "name": "stdout",
     "output_type": "stream",
     "text": [
      "Model: \"sequential_1\"\n",
      "_________________________________________________________________\n",
      "Layer (type)                 Output Shape              Param #   \n",
      "=================================================================\n",
      "embedding_3 (Embedding)      (None, None, 16)          160000    \n",
      "_________________________________________________________________\n",
      "global_average_pooling1d_1 ( (None, 16)                0         \n",
      "_________________________________________________________________\n",
      "dense_2 (Dense)              (None, 16)                272       \n",
      "_________________________________________________________________\n",
      "dense_3 (Dense)              (None, 1)                 17        \n",
      "=================================================================\n",
      "Total params: 160,289\n",
      "Trainable params: 160,289\n",
      "Non-trainable params: 0\n",
      "_________________________________________________________________\n"
     ]
    }
   ],
   "source": [
    "# input shape is the vocabulary count used for the movie reviews (10,000 words)\n",
    "vocab_size = 10000\n",
    "\n",
    "model = keras.Sequential([\n",
    "    layers.Embedding(vocab_size, 16),\n",
    "    layers.GlobalAveragePooling1D(),\n",
    "    layers.Dense(16, activation='relu'),\n",
    "    layers.Dense(1, activation='sigmoid')\n",
    "])\n",
    "\n",
    "\n",
    "model.summary()"
   ]
  },
  {
   "cell_type": "code",
   "execution_count": 80,
   "metadata": {},
   "outputs": [],
   "source": [
    "model.compile(optimizer='adam',\n",
    "              loss='binary_crossentropy',\n",
    "              metrics=['accuracy'])"
   ]
  },
  {
   "cell_type": "code",
   "execution_count": 81,
   "metadata": {},
   "outputs": [],
   "source": [
    "x_val = train_data[:10000]\n",
    "partial_x_train = train_data[10000:]\n",
    "\n",
    "y_val = train_labels[:10000]\n",
    "partial_y_train = train_labels[10000:]"
   ]
  },
  {
   "cell_type": "code",
   "execution_count": 82,
   "metadata": {},
   "outputs": [
    {
     "name": "stdout",
     "output_type": "stream",
     "text": [
      "Train on 15000 samples, validate on 10000 samples\n",
      "Epoch 1/40\n",
      "15000/15000 [==============================] - 0s 30us/sample - loss: 0.6919 - accuracy: 0.5795 - val_loss: 0.6897 - val_accuracy: 0.6656\n",
      "Epoch 2/40\n",
      "15000/15000 [==============================] - 0s 17us/sample - loss: 0.6859 - accuracy: 0.7125 - val_loss: 0.6815 - val_accuracy: 0.7405\n",
      "Epoch 3/40\n",
      "15000/15000 [==============================] - 0s 17us/sample - loss: 0.6736 - accuracy: 0.7436 - val_loss: 0.6662 - val_accuracy: 0.7368\n",
      "Epoch 4/40\n",
      "15000/15000 [==============================] - 0s 17us/sample - loss: 0.6523 - accuracy: 0.7591 - val_loss: 0.6412 - val_accuracy: 0.7397\n",
      "Epoch 5/40\n",
      "15000/15000 [==============================] - 0s 17us/sample - loss: 0.6201 - accuracy: 0.7859 - val_loss: 0.6071 - val_accuracy: 0.7765\n",
      "Epoch 6/40\n",
      "15000/15000 [==============================] - 0s 17us/sample - loss: 0.5790 - accuracy: 0.8100 - val_loss: 0.5673 - val_accuracy: 0.8066\n",
      "Epoch 7/40\n",
      "15000/15000 [==============================] - 0s 17us/sample - loss: 0.5327 - accuracy: 0.8307 - val_loss: 0.5234 - val_accuracy: 0.8195\n",
      "Epoch 8/40\n",
      "15000/15000 [==============================] - 0s 17us/sample - loss: 0.4841 - accuracy: 0.8474 - val_loss: 0.4803 - val_accuracy: 0.8331\n",
      "Epoch 9/40\n",
      "15000/15000 [==============================] - 0s 17us/sample - loss: 0.4382 - accuracy: 0.8627 - val_loss: 0.4420 - val_accuracy: 0.8433\n",
      "Epoch 10/40\n",
      "15000/15000 [==============================] - 0s 17us/sample - loss: 0.3977 - accuracy: 0.8735 - val_loss: 0.4105 - val_accuracy: 0.8519\n",
      "Epoch 11/40\n",
      "15000/15000 [==============================] - 0s 17us/sample - loss: 0.3637 - accuracy: 0.8838 - val_loss: 0.3846 - val_accuracy: 0.8598\n",
      "Epoch 12/40\n",
      "15000/15000 [==============================] - 0s 17us/sample - loss: 0.3351 - accuracy: 0.8898 - val_loss: 0.3646 - val_accuracy: 0.8629\n",
      "Epoch 13/40\n",
      "15000/15000 [==============================] - 0s 17us/sample - loss: 0.3119 - accuracy: 0.8961 - val_loss: 0.3473 - val_accuracy: 0.8695\n",
      "Epoch 14/40\n",
      "15000/15000 [==============================] - 0s 17us/sample - loss: 0.2911 - accuracy: 0.9015 - val_loss: 0.3347 - val_accuracy: 0.8722\n",
      "Epoch 15/40\n",
      "15000/15000 [==============================] - 0s 17us/sample - loss: 0.2738 - accuracy: 0.9063 - val_loss: 0.3245 - val_accuracy: 0.8742\n",
      "Epoch 16/40\n",
      "15000/15000 [==============================] - 0s 17us/sample - loss: 0.2583 - accuracy: 0.9115 - val_loss: 0.3160 - val_accuracy: 0.8754\n",
      "Epoch 17/40\n",
      "15000/15000 [==============================] - 0s 17us/sample - loss: 0.2440 - accuracy: 0.9155 - val_loss: 0.3087 - val_accuracy: 0.8775\n",
      "Epoch 18/40\n",
      "15000/15000 [==============================] - 0s 17us/sample - loss: 0.2315 - accuracy: 0.9209 - val_loss: 0.3028 - val_accuracy: 0.8804\n",
      "Epoch 19/40\n",
      "15000/15000 [==============================] - 0s 17us/sample - loss: 0.2202 - accuracy: 0.9231 - val_loss: 0.2977 - val_accuracy: 0.8816\n",
      "Epoch 20/40\n",
      "15000/15000 [==============================] - 0s 17us/sample - loss: 0.2100 - accuracy: 0.9269 - val_loss: 0.2942 - val_accuracy: 0.8823\n",
      "Epoch 21/40\n",
      "15000/15000 [==============================] - 0s 17us/sample - loss: 0.1997 - accuracy: 0.9333 - val_loss: 0.2912 - val_accuracy: 0.8830\n",
      "Epoch 22/40\n",
      "15000/15000 [==============================] - 0s 17us/sample - loss: 0.1910 - accuracy: 0.9363 - val_loss: 0.2891 - val_accuracy: 0.8847\n",
      "Epoch 23/40\n",
      "15000/15000 [==============================] - 0s 17us/sample - loss: 0.1823 - accuracy: 0.9405 - val_loss: 0.2880 - val_accuracy: 0.8837\n",
      "Epoch 24/40\n",
      "15000/15000 [==============================] - 0s 17us/sample - loss: 0.1748 - accuracy: 0.9439 - val_loss: 0.2861 - val_accuracy: 0.8840\n",
      "Epoch 25/40\n",
      "15000/15000 [==============================] - 0s 17us/sample - loss: 0.1671 - accuracy: 0.9471 - val_loss: 0.2851 - val_accuracy: 0.8845\n",
      "Epoch 26/40\n",
      "15000/15000 [==============================] - 0s 17us/sample - loss: 0.1602 - accuracy: 0.9497 - val_loss: 0.2857 - val_accuracy: 0.8834\n",
      "Epoch 27/40\n",
      "15000/15000 [==============================] - 0s 17us/sample - loss: 0.1537 - accuracy: 0.9521 - val_loss: 0.2854 - val_accuracy: 0.8843\n",
      "Epoch 28/40\n",
      "15000/15000 [==============================] - 0s 17us/sample - loss: 0.1476 - accuracy: 0.9545 - val_loss: 0.2856 - val_accuracy: 0.8845\n",
      "Epoch 29/40\n",
      "15000/15000 [==============================] - 0s 17us/sample - loss: 0.1422 - accuracy: 0.9577 - val_loss: 0.2880 - val_accuracy: 0.8839\n",
      "Epoch 30/40\n",
      "15000/15000 [==============================] - 0s 17us/sample - loss: 0.1365 - accuracy: 0.9593 - val_loss: 0.2872 - val_accuracy: 0.8854\n",
      "Epoch 31/40\n",
      "15000/15000 [==============================] - 0s 17us/sample - loss: 0.1308 - accuracy: 0.9613 - val_loss: 0.2885 - val_accuracy: 0.8864\n",
      "Epoch 32/40\n",
      "15000/15000 [==============================] - 0s 17us/sample - loss: 0.1256 - accuracy: 0.9646 - val_loss: 0.2902 - val_accuracy: 0.8860\n",
      "Epoch 33/40\n",
      "15000/15000 [==============================] - 0s 17us/sample - loss: 0.1207 - accuracy: 0.9659 - val_loss: 0.2926 - val_accuracy: 0.8841\n",
      "Epoch 34/40\n",
      "15000/15000 [==============================] - 0s 17us/sample - loss: 0.1163 - accuracy: 0.9671 - val_loss: 0.2945 - val_accuracy: 0.8853\n",
      "Epoch 35/40\n",
      "15000/15000 [==============================] - 0s 17us/sample - loss: 0.1122 - accuracy: 0.9685 - val_loss: 0.2978 - val_accuracy: 0.8841\n",
      "Epoch 36/40\n",
      "15000/15000 [==============================] - 0s 17us/sample - loss: 0.1079 - accuracy: 0.9708 - val_loss: 0.2995 - val_accuracy: 0.8837\n",
      "Epoch 37/40\n",
      "15000/15000 [==============================] - 0s 17us/sample - loss: 0.1037 - accuracy: 0.9720 - val_loss: 0.3020 - val_accuracy: 0.8835\n",
      "Epoch 38/40\n",
      "15000/15000 [==============================] - 0s 17us/sample - loss: 0.0998 - accuracy: 0.9733 - val_loss: 0.3056 - val_accuracy: 0.8825\n",
      "Epoch 39/40\n",
      "15000/15000 [==============================] - 0s 17us/sample - loss: 0.0966 - accuracy: 0.9747 - val_loss: 0.3091 - val_accuracy: 0.8820\n",
      "Epoch 40/40\n",
      "15000/15000 [==============================] - 0s 17us/sample - loss: 0.0926 - accuracy: 0.9767 - val_loss: 0.3114 - val_accuracy: 0.8821\n"
     ]
    }
   ],
   "source": [
    "history = model.fit(partial_x_train,\n",
    "                    partial_y_train,\n",
    "                    epochs=40,\n",
    "                    batch_size=512,\n",
    "                    validation_data=(x_val, y_val),\n",
    "                    verbose=1)"
   ]
  },
  {
   "cell_type": "code",
   "execution_count": 83,
   "metadata": {},
   "outputs": [
    {
     "name": "stdout",
     "output_type": "stream",
     "text": [
      "25000/25000 [==============================] - 1s 25us/sample - loss: 0.3321 - accuracy: 0.8720\n",
      "[0.3320506236457825, 0.87204]\n"
     ]
    }
   ],
   "source": [
    "results = model.evaluate(test_data, test_labels)\n",
    "\n",
    "print(results)"
   ]
  },
  {
   "cell_type": "code",
   "execution_count": 84,
   "metadata": {},
   "outputs": [
    {
     "data": {
      "text/plain": [
       "dict_keys(['loss', 'accuracy', 'val_loss', 'val_accuracy'])"
      ]
     },
     "execution_count": 84,
     "metadata": {},
     "output_type": "execute_result"
    }
   ],
   "source": [
    "history_dict = history.history\n",
    "history_dict.keys()"
   ]
  },
  {
   "cell_type": "code",
   "execution_count": 86,
   "metadata": {},
   "outputs": [
    {
     "data": {
      "image/png": "[encoded data removed]",
      "text/plain": [
       "<Figure size 432x288 with 1 Axes>"
      ]
     },
     "metadata": {
      "needs_background": "light"
     },
     "output_type": "display_data"
    },
    {
     "data": {
      "image/png": "[encoded data removed]",
      "text/plain": [
       "<Figure size 432x288 with 1 Axes>"
      ]
     },
     "metadata": {
      "needs_background": "light"
     },
     "output_type": "display_data"
    }
   ],
   "source": [
    "import matplotlib.pyplot as plt\n",
    "\n",
    "acc = history_dict['accuracy']\n",
    "val_acc = history_dict['val_accuracy']\n",
    "loss = history_dict['loss']\n",
    "val_loss = history_dict['val_loss']\n",
    "\n",
    "epochs = range(1, len(acc) + 1)\n",
    "\n",
    "# \"bo\" is for \"blue dot\"\n",
    "plt.plot(epochs, loss, 'bo', label='Training loss')\n",
    "# b is for \"solid blue line\"\n",
    "plt.plot(epochs, val_loss, 'b', label='Validation loss')\n",
    "plt.title('Training and validation loss')\n",
    "plt.xlabel('Epochs')\n",
    "plt.ylabel('Loss')\n",
    "plt.legend()\n",
    "plt.show()\n",
    "\n",
    "plt.plot(epochs, acc, 'bo', label='Training acc')\n",
    "plt.plot(epochs, val_acc, 'b', label='Validation acc')\n",
    "plt.title('Training and validation accuracy')\n",
    "plt.xlabel('Epochs')\n",
    "plt.ylabel('Accuracy')\n",
    "plt.legend()\n",
    "plt.show()"
   ]
  },
  {
   "cell_type": "code",
   "execution_count": null,
   "metadata": {},
   "outputs": [],
   "source": []
  },
  {
   "cell_type": "code",
   "execution_count": null,
   "metadata": {},
   "outputs": [],
   "source": []
  }
 ],
 "metadata": {
  "kernelspec": {
   "display_name": "Python 3",
   "language": "python",
   "name": "python3"
  },
  "language_info": {
   "codemirror_mode": {
    "name": "ipython",
    "version": 3
   },
   "file_extension": ".py",
   "mimetype": "text/x-python",
   "name": "python",
   "nbconvert_exporter": "python",
   "pygments_lexer": "ipython3",
   "version": "3.6.8"
  }
 },
 "nbformat": 4,
 "nbformat_minor": 2
}
